{
 "cells": [
  {
   "cell_type": "code",
   "execution_count": 1,
   "metadata": {},
   "outputs": [
    {
     "name": "stdout",
     "output_type": "stream",
     "text": [
      "Q1)The Second largest city of Pakistan is? \n",
      " a) Rawalpindi b) Lahore\n",
      " c) Multan d) Quettaa\n",
      "your answer is incorrected\n",
      "\n",
      "Q2)Upto now how many Muslims went to Space? \n",
      " a)11 b)12 \n",
      " c)13 d)14a\n",
      "your answer is incorrected\n",
      "\n",
      "Q3)Arena is the special name for playground of? \n",
      " a)Cricket b)Lawn Tennis \n",
      " c)Wrestling d) Skatingc\n",
      "your answer is incorrected\n",
      "mark\n"
     ]
    }
   ],
   "source": [
    "QUIZ =[ \"Q1)The Second largest city of Pakistan is? \\n a) Rawalpindi b) Lahore\\n c) Multan d) Quetta\",\n",
    "\"\\nQ2)Upto now how many Muslims went to Space? \\n a)11 b)12 \\n c)13 d)14\",\n",
    "\"\\nQ3)Arena is the special name for playground of? \\n a)Cricket b)Lawn Tennis \\n c)Wrestling d) Skating\"]      \n",
    "ans =[\"b\",\"a\",\"c\"]\n",
    "i = 0\n",
    "for question in QUIZ :\n",
    "    answer = input(question)\n",
    "    if answer == ans [i]:\n",
    "        i=i+1\n",
    "        print (\"your answer is correct\")\n",
    "    else:\n",
    "        print (\"your answer is incorrected\")\n",
    "mark = 0\n",
    "mark = mark +1\n",
    "print(\"mark\")\n"
   ]
  },
  {
   "cell_type": "code",
   "execution_count": null,
   "metadata": {},
   "outputs": [],
   "source": []
  },
  {
   "cell_type": "code",
   "execution_count": null,
   "metadata": {},
   "outputs": [],
   "source": []
  }
 ],
 "metadata": {
  "kernelspec": {
   "display_name": "Python 3",
   "language": "python",
   "name": "python3"
  },
  "language_info": {
   "codemirror_mode": {
    "name": "ipython",
    "version": 3
   },
   "file_extension": ".py",
   "mimetype": "text/x-python",
   "name": "python",
   "nbconvert_exporter": "python",
   "pygments_lexer": "ipython3",
   "version": "3.7.6"
  }
 },
 "nbformat": 4,
 "nbformat_minor": 4
}
